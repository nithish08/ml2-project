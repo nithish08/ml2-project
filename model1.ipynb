{
 "cells": [
  {
   "cell_type": "code",
   "execution_count": 8,
   "metadata": {
    "Collapsed": "false"
   },
   "outputs": [],
   "source": [
    "import pandas as pd\n",
    "import numpy as np\n",
    "from pathlib import Path\n",
    "import matplotlib.pyplot as plt\n",
    "import seaborn as sns\n",
    "\n",
    "from sklearn.linear_model import LinearRegression\n",
    "from sklearn.metrics import r2_score\n",
    "# from xgboost import XGBRegressor\n",
    "\n",
    "from sklearn.metrics import r2_score\n",
    "from sklearn.linear_model import HuberRegressor\n",
    "from sklearn.ensemble import RandomForestRegressor\n",
    "# from tsfresh import extract_features,extract_relevant_features\n",
    "from sklearn.preprocessing import PolynomialFeatures\n",
    "\n",
    "from sklearn.ensemble import AdaBoostRegressor\n",
    "from sklearn.neighbors import KNeighborsRegressor\n",
    "from sklearn.neural_network import MLPRegressor"
   ]
  },
  {
   "cell_type": "code",
   "execution_count": null,
   "metadata": {},
   "outputs": [],
   "source": [
    "from collections import Counter"
   ]
  },
  {
   "cell_type": "code",
   "execution_count": 184,
   "metadata": {
    "Collapsed": "false"
   },
   "outputs": [],
   "source": [
    "def train_val_test(data, splits=[0.7,0.1,0.2],seed=42):\n",
    "    '''\n",
    "    \n",
    "    Inputs Args: \n",
    "    \n",
    "    dataa : entire labelled data available\n",
    "    splits : [train_size, val_size, test_size] # fractions\n",
    "    \n",
    "    '''\n",
    "    \n",
    "    \n",
    "    data_patients = data.patient_id.unique()\n",
    "    \n",
    "    np.random.seed(seed)\n",
    "    np.random.shuffle(data_patients) # shuffle patients\n",
    "    \n",
    "    splits = [int(i * len(data_patients)) for i in splits]\n",
    "    train_size, val_size, test_size = splits\n",
    "    \n",
    "    train_patients = data_patients[:train_size]\n",
    "    val_patients   = data_patients[train_size : train_size + val_size]\n",
    "    test_patients = data_patients[train_size + val_size : ] # we not using test_size\n",
    "                                                            # but it's same\n",
    "        \n",
    "\n",
    "    assert len(train_patients) + len(val_patients) + len(test_patients)\\\n",
    "                    == data.patient_id.nunique()\n",
    "\n",
    "    train = data[data.patient_id.isin(train_patients)]\n",
    "    val = data[data.patient_id.isin(val_patients)]\n",
    "    test = data[data.patient_id.isin(test_patients)] \n",
    "    \n",
    "    return train, val, test\n",
    "    \n",
    "\n",
    "def get_arrays(train, val, test, features, target):\n",
    "    ''' get Xs and Ys for machine learning'''\n",
    "\n",
    "    X_train, y_train = train[features], train[target]\n",
    "    X_val, y_val = val[features], val[target]\n",
    "    X_test, y_test =  test[features], test[target]\n",
    "    \n",
    "    return X_train, y_train, X_val, y_val, X_test, y_test\n",
    "\n",
    "\n",
    "def get_cross_validation(model, X_train, y_train, X_val, y_val, X_test, y_test\n",
    "                         , mode='val',\n",
    "                        use_full=True):\n",
    "    '''\n",
    "    Used for cross validation and getting test metrics\n",
    "    \n",
    "    mode = 'val' -> do cross validation\n",
    "           'test' -> get test estimates\n",
    "           \n",
    "    use_full = whether to use combine train and val sets for test\n",
    "               only used when mode = 'test'\n",
    "    \n",
    "    '''\n",
    "    \n",
    "    if mode=='val':  \n",
    "        model.fit(X_train, y_train)\n",
    "        train_score = r2_score(y_train, model.predict(X_train))\n",
    "        val_score = r2_score(y_val, model.predict(X_val))\n",
    "        return train_score, val_score\n",
    "    \n",
    "    if mode=='test':\n",
    "        \n",
    "        if use_full:\n",
    "            X_full = pd.concat([X_train, X_val], axis=0)\n",
    "            y_full = pd.concat([y_train, y_val], axis=0)\n",
    "            model.fit(X_full, y_full)\n",
    "            \n",
    "            train_score = r2_score(y_full, model.predict(X_full))\n",
    "            test_score = r2_score(y_test, model.predict(X_test))\n",
    "            \n",
    "            return train_score, test_score\n",
    "        \n",
    "        if not use_full:\n",
    "            \n",
    "#             model.fit(X_train, y_train)  # no need to train here\n",
    "            \n",
    "            train_score = r2_score(y_train, model.predict(X_train))\n",
    "            test_score = r2_score(y_test, model.predict(X_test))\n",
    "            \n",
    "            return train_score, test_score\n",
    "\n",
    "def score_model(model,ml_df, feat_xx, target_name):\n",
    "    '''\n",
    "    gets the stable cross validation scores for the model\n",
    "    by randomly splitting patients into train and val sets\n",
    "    10 times. \n",
    "    \n",
    "    Inputs Args:\n",
    "        \n",
    "        model = ML model to use \n",
    "        \n",
    "        ml_df = dataframe which has features and targets\n",
    "        \n",
    "        feat_xx = list of column names in ml_df to use as features\n",
    "        \n",
    "        target_name = column name of target in ml_df. ex: 'y_mean_MAP'\n",
    "    \n",
    "    \n",
    "    '''\n",
    "    \n",
    "    train_score_list = []\n",
    "    val_score_list = []\n",
    "    \n",
    "    for seed in range(3):\n",
    "        train, val, test = train_val_test(ml_df, splits=[0.7,0.3,0],seed=seed)\n",
    "        X_train, y_train, X_val, y_val, X_test, y_test = get_arrays(train,val,test,feat_xx,target_name)\n",
    "        train_score, val_score = get_cross_validation(model, X_train, y_train, X_val, y_val, X_test, y_test\n",
    "                                 , mode='val',\n",
    "                                use_full=True)\n",
    "        train_score_list.append(train_score)\n",
    "        val_score_list.append(val_score)\n",
    "    \n",
    "    return train_score_list, val_score_list\n",
    "    "
   ]
  },
  {
   "cell_type": "code",
   "execution_count": 4,
   "metadata": {
    "Collapsed": "false"
   },
   "outputs": [],
   "source": [
    "# load data\n",
    "data_path = Path('./data')\n",
    "data = pd.read_csv(data_path/'train.csv')\n",
    "test = pd.read_csv(data_path / 'data_for_test.csv')"
   ]
  },
  {
   "cell_type": "code",
   "execution_count": 5,
   "metadata": {},
   "outputs": [],
   "source": [
    "df = data.copy()"
   ]
  },
  {
   "cell_type": "code",
   "execution_count": 6,
   "metadata": {},
   "outputs": [
    {
     "data": {
      "text/html": [
       "<div>\n",
       "<style scoped>\n",
       "    .dataframe tbody tr th:only-of-type {\n",
       "        vertical-align: middle;\n",
       "    }\n",
       "\n",
       "    .dataframe tbody tr th {\n",
       "        vertical-align: top;\n",
       "    }\n",
       "\n",
       "    .dataframe thead th {\n",
       "        text-align: right;\n",
       "    }\n",
       "</style>\n",
       "<table border=\"1\" class=\"dataframe\">\n",
       "  <thead>\n",
       "    <tr style=\"text-align: right;\">\n",
       "      <th></th>\n",
       "      <th>patient_id</th>\n",
       "      <th>key</th>\n",
       "      <th>gender</th>\n",
       "      <th>age</th>\n",
       "      <th>x1</th>\n",
       "      <th>x2</th>\n",
       "      <th>x3</th>\n",
       "      <th>x4</th>\n",
       "      <th>x5</th>\n",
       "      <th>x6</th>\n",
       "      <th>xx1</th>\n",
       "      <th>xx2</th>\n",
       "      <th>xx3</th>\n",
       "      <th>xx4</th>\n",
       "      <th>xx5</th>\n",
       "      <th>y_mean_MAP</th>\n",
       "      <th>y_mean_HR</th>\n",
       "    </tr>\n",
       "  </thead>\n",
       "  <tbody>\n",
       "    <tr>\n",
       "      <td>0</td>\n",
       "      <td>1891</td>\n",
       "      <td>1891-3</td>\n",
       "      <td>1</td>\n",
       "      <td>75</td>\n",
       "      <td>22</td>\n",
       "      <td>1</td>\n",
       "      <td>2</td>\n",
       "      <td>0</td>\n",
       "      <td>0</td>\n",
       "      <td>1</td>\n",
       "      <td>80.0</td>\n",
       "      <td>95.0</td>\n",
       "      <td>99.9</td>\n",
       "      <td>49.4</td>\n",
       "      <td>62.5</td>\n",
       "      <td>59.04</td>\n",
       "      <td>80.0</td>\n",
       "    </tr>\n",
       "    <tr>\n",
       "      <td>1</td>\n",
       "      <td>1891</td>\n",
       "      <td>1891-3</td>\n",
       "      <td>1</td>\n",
       "      <td>75</td>\n",
       "      <td>22</td>\n",
       "      <td>1</td>\n",
       "      <td>2</td>\n",
       "      <td>0</td>\n",
       "      <td>0</td>\n",
       "      <td>1</td>\n",
       "      <td>80.0</td>\n",
       "      <td>94.9</td>\n",
       "      <td>98.4</td>\n",
       "      <td>48.7</td>\n",
       "      <td>61.3</td>\n",
       "      <td>59.04</td>\n",
       "      <td>80.0</td>\n",
       "    </tr>\n",
       "    <tr>\n",
       "      <td>2</td>\n",
       "      <td>1891</td>\n",
       "      <td>1891-3</td>\n",
       "      <td>1</td>\n",
       "      <td>75</td>\n",
       "      <td>22</td>\n",
       "      <td>1</td>\n",
       "      <td>2</td>\n",
       "      <td>0</td>\n",
       "      <td>0</td>\n",
       "      <td>1</td>\n",
       "      <td>80.0</td>\n",
       "      <td>95.0</td>\n",
       "      <td>95.3</td>\n",
       "      <td>48.5</td>\n",
       "      <td>60.3</td>\n",
       "      <td>59.04</td>\n",
       "      <td>80.0</td>\n",
       "    </tr>\n",
       "    <tr>\n",
       "      <td>3</td>\n",
       "      <td>1891</td>\n",
       "      <td>1891-3</td>\n",
       "      <td>1</td>\n",
       "      <td>75</td>\n",
       "      <td>22</td>\n",
       "      <td>1</td>\n",
       "      <td>2</td>\n",
       "      <td>0</td>\n",
       "      <td>0</td>\n",
       "      <td>1</td>\n",
       "      <td>80.0</td>\n",
       "      <td>95.0</td>\n",
       "      <td>97.4</td>\n",
       "      <td>48.9</td>\n",
       "      <td>61.3</td>\n",
       "      <td>59.04</td>\n",
       "      <td>80.0</td>\n",
       "    </tr>\n",
       "    <tr>\n",
       "      <td>4</td>\n",
       "      <td>1891</td>\n",
       "      <td>1891-3</td>\n",
       "      <td>1</td>\n",
       "      <td>75</td>\n",
       "      <td>22</td>\n",
       "      <td>1</td>\n",
       "      <td>2</td>\n",
       "      <td>0</td>\n",
       "      <td>0</td>\n",
       "      <td>1</td>\n",
       "      <td>76.7</td>\n",
       "      <td>95.7</td>\n",
       "      <td>99.6</td>\n",
       "      <td>50.2</td>\n",
       "      <td>62.8</td>\n",
       "      <td>59.04</td>\n",
       "      <td>80.0</td>\n",
       "    </tr>\n",
       "  </tbody>\n",
       "</table>\n",
       "</div>"
      ],
      "text/plain": [
       "   patient_id     key  gender  age  x1  x2  x3  x4  x5  x6   xx1   xx2   xx3  \\\n",
       "0        1891  1891-3       1   75  22   1   2   0   0   1  80.0  95.0  99.9   \n",
       "1        1891  1891-3       1   75  22   1   2   0   0   1  80.0  94.9  98.4   \n",
       "2        1891  1891-3       1   75  22   1   2   0   0   1  80.0  95.0  95.3   \n",
       "3        1891  1891-3       1   75  22   1   2   0   0   1  80.0  95.0  97.4   \n",
       "4        1891  1891-3       1   75  22   1   2   0   0   1  76.7  95.7  99.6   \n",
       "\n",
       "    xx4   xx5  y_mean_MAP  y_mean_HR  \n",
       "0  49.4  62.5       59.04       80.0  \n",
       "1  48.7  61.3       59.04       80.0  \n",
       "2  48.5  60.3       59.04       80.0  \n",
       "3  48.9  61.3       59.04       80.0  \n",
       "4  50.2  62.8       59.04       80.0  "
      ]
     },
     "execution_count": 6,
     "metadata": {},
     "output_type": "execute_result"
    }
   ],
   "source": [
    "df.head()"
   ]
  },
  {
   "cell_type": "code",
   "execution_count": 7,
   "metadata": {},
   "outputs": [],
   "source": [
    "df.key = df.key.apply(lambda x: x.split('-')[-1]).astype(int)"
   ]
  },
  {
   "cell_type": "markdown",
   "metadata": {},
   "source": [
    "## Create features"
   ]
  },
  {
   "cell_type": "code",
   "execution_count": 10,
   "metadata": {},
   "outputs": [],
   "source": [
    "def get_static_features(dataframe):\n",
    "    dataframe =  dataframe.groupby(['patient_id','key'], as_index=False).last()\n",
    "    return dataframe[['patient_id','key','gender', 'age', 'x1', 'x2', 'x3', 'x4', 'x5', 'x6']]\n",
    "\n",
    "\n",
    "def get_last_row(dataframe):\n",
    "    dataframe = dataframe.groupby(['patient_id','key'], as_index=False).last()\n",
    "    dataframe = dataframe[['patient_id','key','xx1','xx2','xx3','xx4','xx5']]\n",
    "    dataframe.columns = ['patient_id','key','xx1_last','xx2_last','xx3_last'\n",
    "                         ,'xx4_last','xx5_last']\n",
    "    \n",
    "    return dataframe\n",
    "\n",
    "\n",
    "def get_mean_features(dataframe):\n",
    "    dataframe = dataframe.groupby(['patient_id','key'], as_index=False).mean()\n",
    "    dataframe = dataframe[['patient_id','key','xx1','xx2','xx3','xx4','xx5']]\n",
    "    \n",
    "    dataframe.columns = ['patient_id','key','xx1_mean','xx2_mean',\n",
    "                      'xx3_mean','xx4_mean','xx5_mean']\n",
    "    return dataframe\n",
    "\n",
    "\n",
    "def get_target(dataframe):\n",
    "    return dataframe[['patient_id', 'key', 'y_mean_MAP', 'y_mean_HR']].drop_duplicates()"
   ]
  },
  {
   "cell_type": "code",
   "execution_count": 11,
   "metadata": {},
   "outputs": [],
   "source": [
    "static = get_static_features(df)\n",
    "\n",
    "last = get_last_row(df)\n",
    "mean_df = get_mean_features(df)\n",
    "\n",
    "static.shape, last.shape, mean_df.shape\n",
    "\n",
    "static.columns\n",
    "\n",
    "features = pd.merge(static, last, on = ['patient_id', 'key'])\n",
    "features = pd.merge(features, mean_df, on= ['patient_id', 'key'])\n",
    "\n",
    "targets = get_target(df)\n",
    "\n",
    "ml_df = pd.merge(features, targets, on = ['patient_id', 'key'])\n",
    "\n",
    "feat_xx = ['gender', 'age', 'x1', 'x2', 'x3', 'x4', 'x5', 'x6', 'xx1_last',\n",
    "       'xx2_last', 'xx3_last', 'xx4_last', 'xx5_last', 'xx1_mean', 'xx2_mean',\n",
    "       'xx3_mean', 'xx4_mean', 'xx5_mean']\n",
    "\n",
    "target_name = 'y_mean_MAP'"
   ]
  },
  {
   "cell_type": "markdown",
   "metadata": {},
   "source": [
    "## baseline linear model with avg and last row features"
   ]
  },
  {
   "cell_type": "code",
   "execution_count": 74,
   "metadata": {},
   "outputs": [
    {
     "name": "stdout",
     "output_type": "stream",
     "text": [
      "0.8945192895702773 0.001810143578798839\n",
      "0.8930717345014827 0.003934449412401173\n"
     ]
    }
   ],
   "source": [
    "model = LinearRegression(normalize=False)\n",
    "\n",
    "tsl,vsl = score_model(model, ml_df, feat_xx,'y_mean_MAP')\n",
    "\n",
    "print(np.mean(tsl), np.std(tsl))\n",
    "\n",
    "print(np.mean(vsl), np.std(vsl))"
   ]
  },
  {
   "cell_type": "code",
   "execution_count": 26,
   "metadata": {},
   "outputs": [
    {
     "data": {
      "text/html": [
       "<div>\n",
       "<style scoped>\n",
       "    .dataframe tbody tr th:only-of-type {\n",
       "        vertical-align: middle;\n",
       "    }\n",
       "\n",
       "    .dataframe tbody tr th {\n",
       "        vertical-align: top;\n",
       "    }\n",
       "\n",
       "    .dataframe thead th {\n",
       "        text-align: right;\n",
       "    }\n",
       "</style>\n",
       "<table border=\"1\" class=\"dataframe\">\n",
       "  <thead>\n",
       "    <tr style=\"text-align: right;\">\n",
       "      <th></th>\n",
       "      <th>patient_id</th>\n",
       "      <th>key</th>\n",
       "      <th>gender</th>\n",
       "      <th>age</th>\n",
       "      <th>x1</th>\n",
       "      <th>x2</th>\n",
       "      <th>x3</th>\n",
       "      <th>x4</th>\n",
       "      <th>x5</th>\n",
       "      <th>x6</th>\n",
       "      <th>...</th>\n",
       "      <th>xx3_last</th>\n",
       "      <th>xx4_last</th>\n",
       "      <th>xx5_last</th>\n",
       "      <th>xx1_mean</th>\n",
       "      <th>xx2_mean</th>\n",
       "      <th>xx3_mean</th>\n",
       "      <th>xx4_mean</th>\n",
       "      <th>xx5_mean</th>\n",
       "      <th>y_mean_MAP</th>\n",
       "      <th>y_mean_HR</th>\n",
       "    </tr>\n",
       "  </thead>\n",
       "  <tbody>\n",
       "    <tr>\n",
       "      <td>0</td>\n",
       "      <td>0</td>\n",
       "      <td>28</td>\n",
       "      <td>0</td>\n",
       "      <td>72</td>\n",
       "      <td>39</td>\n",
       "      <td>5</td>\n",
       "      <td>1</td>\n",
       "      <td>0</td>\n",
       "      <td>0</td>\n",
       "      <td>0</td>\n",
       "      <td>...</td>\n",
       "      <td>112.0</td>\n",
       "      <td>71.0</td>\n",
       "      <td>88.0</td>\n",
       "      <td>80.166667</td>\n",
       "      <td>99.733333</td>\n",
       "      <td>113.433333</td>\n",
       "      <td>69.566667</td>\n",
       "      <td>87.000000</td>\n",
       "      <td>86.426667</td>\n",
       "      <td>79.130000</td>\n",
       "    </tr>\n",
       "    <tr>\n",
       "      <td>1</td>\n",
       "      <td>1</td>\n",
       "      <td>5</td>\n",
       "      <td>1</td>\n",
       "      <td>64</td>\n",
       "      <td>55</td>\n",
       "      <td>9</td>\n",
       "      <td>5</td>\n",
       "      <td>1</td>\n",
       "      <td>0</td>\n",
       "      <td>1</td>\n",
       "      <td>...</td>\n",
       "      <td>96.0</td>\n",
       "      <td>52.0</td>\n",
       "      <td>68.0</td>\n",
       "      <td>62.633333</td>\n",
       "      <td>100.000000</td>\n",
       "      <td>104.000000</td>\n",
       "      <td>55.033333</td>\n",
       "      <td>72.433333</td>\n",
       "      <td>68.430000</td>\n",
       "      <td>58.456667</td>\n",
       "    </tr>\n",
       "    <tr>\n",
       "      <td>2</td>\n",
       "      <td>1</td>\n",
       "      <td>6</td>\n",
       "      <td>1</td>\n",
       "      <td>64</td>\n",
       "      <td>55</td>\n",
       "      <td>9</td>\n",
       "      <td>5</td>\n",
       "      <td>1</td>\n",
       "      <td>0</td>\n",
       "      <td>1</td>\n",
       "      <td>...</td>\n",
       "      <td>98.0</td>\n",
       "      <td>56.0</td>\n",
       "      <td>72.0</td>\n",
       "      <td>57.633333</td>\n",
       "      <td>100.000000</td>\n",
       "      <td>95.766667</td>\n",
       "      <td>53.300000</td>\n",
       "      <td>69.200000</td>\n",
       "      <td>70.746667</td>\n",
       "      <td>58.480000</td>\n",
       "    </tr>\n",
       "    <tr>\n",
       "      <td>3</td>\n",
       "      <td>1</td>\n",
       "      <td>7</td>\n",
       "      <td>1</td>\n",
       "      <td>64</td>\n",
       "      <td>55</td>\n",
       "      <td>9</td>\n",
       "      <td>5</td>\n",
       "      <td>1</td>\n",
       "      <td>0</td>\n",
       "      <td>1</td>\n",
       "      <td>...</td>\n",
       "      <td>107.0</td>\n",
       "      <td>57.0</td>\n",
       "      <td>75.0</td>\n",
       "      <td>61.633333</td>\n",
       "      <td>99.133333</td>\n",
       "      <td>102.600000</td>\n",
       "      <td>57.266667</td>\n",
       "      <td>73.933333</td>\n",
       "      <td>76.350000</td>\n",
       "      <td>63.556667</td>\n",
       "    </tr>\n",
       "    <tr>\n",
       "      <td>4</td>\n",
       "      <td>1</td>\n",
       "      <td>8</td>\n",
       "      <td>1</td>\n",
       "      <td>64</td>\n",
       "      <td>55</td>\n",
       "      <td>9</td>\n",
       "      <td>5</td>\n",
       "      <td>1</td>\n",
       "      <td>0</td>\n",
       "      <td>1</td>\n",
       "      <td>...</td>\n",
       "      <td>113.0</td>\n",
       "      <td>58.0</td>\n",
       "      <td>76.0</td>\n",
       "      <td>60.300000</td>\n",
       "      <td>97.866667</td>\n",
       "      <td>110.433333</td>\n",
       "      <td>57.566667</td>\n",
       "      <td>75.600000</td>\n",
       "      <td>76.690000</td>\n",
       "      <td>59.250000</td>\n",
       "    </tr>\n",
       "  </tbody>\n",
       "</table>\n",
       "<p>5 rows × 22 columns</p>\n",
       "</div>"
      ],
      "text/plain": [
       "   patient_id  key  gender  age  x1  x2  x3  x4  x5  x6  ...  xx3_last  \\\n",
       "0           0   28       0   72  39   5   1   0   0   0  ...     112.0   \n",
       "1           1    5       1   64  55   9   5   1   0   1  ...      96.0   \n",
       "2           1    6       1   64  55   9   5   1   0   1  ...      98.0   \n",
       "3           1    7       1   64  55   9   5   1   0   1  ...     107.0   \n",
       "4           1    8       1   64  55   9   5   1   0   1  ...     113.0   \n",
       "\n",
       "   xx4_last  xx5_last   xx1_mean    xx2_mean    xx3_mean   xx4_mean  \\\n",
       "0      71.0      88.0  80.166667   99.733333  113.433333  69.566667   \n",
       "1      52.0      68.0  62.633333  100.000000  104.000000  55.033333   \n",
       "2      56.0      72.0  57.633333  100.000000   95.766667  53.300000   \n",
       "3      57.0      75.0  61.633333   99.133333  102.600000  57.266667   \n",
       "4      58.0      76.0  60.300000   97.866667  110.433333  57.566667   \n",
       "\n",
       "    xx5_mean  y_mean_MAP  y_mean_HR  \n",
       "0  87.000000   86.426667  79.130000  \n",
       "1  72.433333   68.430000  58.456667  \n",
       "2  69.200000   70.746667  58.480000  \n",
       "3  73.933333   76.350000  63.556667  \n",
       "4  75.600000   76.690000  59.250000  \n",
       "\n",
       "[5 rows x 22 columns]"
      ]
     },
     "execution_count": 26,
     "metadata": {},
     "output_type": "execute_result"
    }
   ],
   "source": [
    "ml_df.head()"
   ]
  },
  {
   "cell_type": "code",
   "execution_count": 30,
   "metadata": {},
   "outputs": [],
   "source": [
    "l = ml_df.key.to_list()"
   ]
  },
  {
   "cell_type": "code",
   "execution_count": 34,
   "metadata": {},
   "outputs": [],
   "source": [
    "d = Counter(l)"
   ]
  },
  {
   "cell_type": "code",
   "execution_count": 36,
   "metadata": {},
   "outputs": [
    {
     "data": {
      "image/png": "[encoded data removed]",
      "text/plain": [
       "<Figure size 432x288 with 1 Axes>"
      ]
     },
     "metadata": {
      "needs_background": "light"
     },
     "output_type": "display_data"
    }
   ],
   "source": [
    "_ = plt.bar(x=d.keys(),height=d.values())"
   ]
  },
  {
   "cell_type": "code",
   "execution_count": 47,
   "metadata": {
    "collapsed": true,
    "jupyter": {
     "outputs_hidden": true
    }
   },
   "outputs": [
    {
     "data": {
      "text/plain": [
       "{352,\n",
       " 358,\n",
       " 371,\n",
       " 375,\n",
       " 376,\n",
       " 377,\n",
       " 378,\n",
       " 379,\n",
       " 380,\n",
       " 381,\n",
       " 382,\n",
       " 383,\n",
       " 384,\n",
       " 385,\n",
       " 386,\n",
       " 387,\n",
       " 388,\n",
       " 389,\n",
       " 390,\n",
       " 391,\n",
       " 392,\n",
       " 393,\n",
       " 394,\n",
       " 395,\n",
       " 396,\n",
       " 397,\n",
       " 398,\n",
       " 399,\n",
       " 400,\n",
       " 401,\n",
       " 402,\n",
       " 403,\n",
       " 404,\n",
       " 405,\n",
       " 406,\n",
       " 407,\n",
       " 408,\n",
       " 409,\n",
       " 410,\n",
       " 411,\n",
       " 412,\n",
       " 413,\n",
       " 414,\n",
       " 415,\n",
       " 416,\n",
       " 417,\n",
       " 418,\n",
       " 419,\n",
       " 420,\n",
       " 421,\n",
       " 422,\n",
       " 423,\n",
       " 424,\n",
       " 425,\n",
       " 426,\n",
       " 427,\n",
       " 428}"
      ]
     },
     "execution_count": 47,
     "metadata": {},
     "output_type": "execute_result"
    }
   ],
   "source": [
    "set(range(1,431)) - set(sorted(d.keys()))"
   ]
  },
  {
   "cell_type": "markdown",
   "metadata": {},
   "source": [
    "## newer version"
   ]
  },
  {
   "cell_type": "code",
   "execution_count": 110,
   "metadata": {},
   "outputs": [],
   "source": [
    "prev_key = last.groupby('patient_id')['xx1_last', 'xx2_last', 'xx3_last', 'xx4_last', 'xx5_last'].shift(1)\n",
    "prev_key.columns = [i+'_lag' for i in prev_key.columns ]"
   ]
  },
  {
   "cell_type": "code",
   "execution_count": null,
   "metadata": {},
   "outputs": [],
   "source": [
    "# prev_key.fillna(prev_key.mean(), inplace=True)"
   ]
  },
  {
   "cell_type": "code",
   "execution_count": 115,
   "metadata": {},
   "outputs": [],
   "source": [
    "latest = pd.concat([ml_df, prev_key], axis=1)"
   ]
  },
  {
   "cell_type": "code",
   "execution_count": 116,
   "metadata": {},
   "outputs": [
    {
     "data": {
      "text/html": [
       "<div>\n",
       "<style scoped>\n",
       "    .dataframe tbody tr th:only-of-type {\n",
       "        vertical-align: middle;\n",
       "    }\n",
       "\n",
       "    .dataframe tbody tr th {\n",
       "        vertical-align: top;\n",
       "    }\n",
       "\n",
       "    .dataframe thead th {\n",
       "        text-align: right;\n",
       "    }\n",
       "</style>\n",
       "<table border=\"1\" class=\"dataframe\">\n",
       "  <thead>\n",
       "    <tr style=\"text-align: right;\">\n",
       "      <th></th>\n",
       "      <th>patient_id</th>\n",
       "      <th>key</th>\n",
       "      <th>gender</th>\n",
       "      <th>age</th>\n",
       "      <th>x1</th>\n",
       "      <th>x2</th>\n",
       "      <th>x3</th>\n",
       "      <th>x4</th>\n",
       "      <th>x5</th>\n",
       "      <th>x6</th>\n",
       "      <th>...</th>\n",
       "      <th>xx3_mean</th>\n",
       "      <th>xx4_mean</th>\n",
       "      <th>xx5_mean</th>\n",
       "      <th>y_mean_MAP</th>\n",
       "      <th>y_mean_HR</th>\n",
       "      <th>xx1_last_lag</th>\n",
       "      <th>xx2_last_lag</th>\n",
       "      <th>xx3_last_lag</th>\n",
       "      <th>xx4_last_lag</th>\n",
       "      <th>xx5_last_lag</th>\n",
       "    </tr>\n",
       "  </thead>\n",
       "  <tbody>\n",
       "    <tr>\n",
       "      <td>0</td>\n",
       "      <td>0</td>\n",
       "      <td>28</td>\n",
       "      <td>0</td>\n",
       "      <td>72</td>\n",
       "      <td>39</td>\n",
       "      <td>5</td>\n",
       "      <td>1</td>\n",
       "      <td>0</td>\n",
       "      <td>0</td>\n",
       "      <td>0</td>\n",
       "      <td>...</td>\n",
       "      <td>113.433333</td>\n",
       "      <td>69.566667</td>\n",
       "      <td>87.000000</td>\n",
       "      <td>86.426667</td>\n",
       "      <td>79.130000</td>\n",
       "      <td>NaN</td>\n",
       "      <td>NaN</td>\n",
       "      <td>NaN</td>\n",
       "      <td>NaN</td>\n",
       "      <td>NaN</td>\n",
       "    </tr>\n",
       "    <tr>\n",
       "      <td>1</td>\n",
       "      <td>1</td>\n",
       "      <td>5</td>\n",
       "      <td>1</td>\n",
       "      <td>64</td>\n",
       "      <td>55</td>\n",
       "      <td>9</td>\n",
       "      <td>5</td>\n",
       "      <td>1</td>\n",
       "      <td>0</td>\n",
       "      <td>1</td>\n",
       "      <td>...</td>\n",
       "      <td>104.000000</td>\n",
       "      <td>55.033333</td>\n",
       "      <td>72.433333</td>\n",
       "      <td>68.430000</td>\n",
       "      <td>58.456667</td>\n",
       "      <td>NaN</td>\n",
       "      <td>NaN</td>\n",
       "      <td>NaN</td>\n",
       "      <td>NaN</td>\n",
       "      <td>NaN</td>\n",
       "    </tr>\n",
       "    <tr>\n",
       "      <td>2</td>\n",
       "      <td>1</td>\n",
       "      <td>6</td>\n",
       "      <td>1</td>\n",
       "      <td>64</td>\n",
       "      <td>55</td>\n",
       "      <td>9</td>\n",
       "      <td>5</td>\n",
       "      <td>1</td>\n",
       "      <td>0</td>\n",
       "      <td>1</td>\n",
       "      <td>...</td>\n",
       "      <td>95.766667</td>\n",
       "      <td>53.300000</td>\n",
       "      <td>69.200000</td>\n",
       "      <td>70.746667</td>\n",
       "      <td>58.480000</td>\n",
       "      <td>57.0</td>\n",
       "      <td>100.0</td>\n",
       "      <td>96.0</td>\n",
       "      <td>52.0</td>\n",
       "      <td>68.0</td>\n",
       "    </tr>\n",
       "    <tr>\n",
       "      <td>3</td>\n",
       "      <td>1</td>\n",
       "      <td>7</td>\n",
       "      <td>1</td>\n",
       "      <td>64</td>\n",
       "      <td>55</td>\n",
       "      <td>9</td>\n",
       "      <td>5</td>\n",
       "      <td>1</td>\n",
       "      <td>0</td>\n",
       "      <td>1</td>\n",
       "      <td>...</td>\n",
       "      <td>102.600000</td>\n",
       "      <td>57.266667</td>\n",
       "      <td>73.933333</td>\n",
       "      <td>76.350000</td>\n",
       "      <td>63.556667</td>\n",
       "      <td>59.0</td>\n",
       "      <td>100.0</td>\n",
       "      <td>98.0</td>\n",
       "      <td>56.0</td>\n",
       "      <td>72.0</td>\n",
       "    </tr>\n",
       "    <tr>\n",
       "      <td>4</td>\n",
       "      <td>1</td>\n",
       "      <td>8</td>\n",
       "      <td>1</td>\n",
       "      <td>64</td>\n",
       "      <td>55</td>\n",
       "      <td>9</td>\n",
       "      <td>5</td>\n",
       "      <td>1</td>\n",
       "      <td>0</td>\n",
       "      <td>1</td>\n",
       "      <td>...</td>\n",
       "      <td>110.433333</td>\n",
       "      <td>57.566667</td>\n",
       "      <td>75.600000</td>\n",
       "      <td>76.690000</td>\n",
       "      <td>59.250000</td>\n",
       "      <td>62.0</td>\n",
       "      <td>98.0</td>\n",
       "      <td>107.0</td>\n",
       "      <td>57.0</td>\n",
       "      <td>75.0</td>\n",
       "    </tr>\n",
       "  </tbody>\n",
       "</table>\n",
       "<p>5 rows × 27 columns</p>\n",
       "</div>"
      ],
      "text/plain": [
       "   patient_id  key  gender  age  x1  x2  x3  x4  x5  x6  ...    xx3_mean  \\\n",
       "0           0   28       0   72  39   5   1   0   0   0  ...  113.433333   \n",
       "1           1    5       1   64  55   9   5   1   0   1  ...  104.000000   \n",
       "2           1    6       1   64  55   9   5   1   0   1  ...   95.766667   \n",
       "3           1    7       1   64  55   9   5   1   0   1  ...  102.600000   \n",
       "4           1    8       1   64  55   9   5   1   0   1  ...  110.433333   \n",
       "\n",
       "    xx4_mean   xx5_mean  y_mean_MAP  y_mean_HR  xx1_last_lag  xx2_last_lag  \\\n",
       "0  69.566667  87.000000   86.426667  79.130000           NaN           NaN   \n",
       "1  55.033333  72.433333   68.430000  58.456667           NaN           NaN   \n",
       "2  53.300000  69.200000   70.746667  58.480000          57.0         100.0   \n",
       "3  57.266667  73.933333   76.350000  63.556667          59.0         100.0   \n",
       "4  57.566667  75.600000   76.690000  59.250000          62.0          98.0   \n",
       "\n",
       "   xx3_last_lag  xx4_last_lag  xx5_last_lag  \n",
       "0           NaN           NaN           NaN  \n",
       "1           NaN           NaN           NaN  \n",
       "2          96.0          52.0          68.0  \n",
       "3          98.0          56.0          72.0  \n",
       "4         107.0          57.0          75.0  \n",
       "\n",
       "[5 rows x 27 columns]"
      ]
     },
     "execution_count": 116,
     "metadata": {},
     "output_type": "execute_result"
    }
   ],
   "source": [
    "latest.head()"
   ]
  },
  {
   "cell_type": "code",
   "execution_count": 120,
   "metadata": {},
   "outputs": [],
   "source": [
    "for col in ['xx1_last', 'xx2_last', 'xx3_last', 'xx4_last', 'xx5_last']:\n",
    "    lag_col = col+'_lag'\n",
    "    latest.loc[latest[lag_col].isna(), lag_col] = latest.loc[latest[lag_col].isna(), col]"
   ]
  },
  {
   "cell_type": "code",
   "execution_count": 146,
   "metadata": {},
   "outputs": [
    {
     "data": {
      "text/plain": [
       "(43247, 27)"
      ]
     },
     "execution_count": 146,
     "metadata": {},
     "output_type": "execute_result"
    }
   ],
   "source": [
    "proxy = latest.copy()\n",
    "\n",
    "proxy = proxy[proxy.x1.isin(set(test.x1))]\n",
    "\n",
    "proxy = proxy[proxy.x2.isin(set(test.x2))]\n",
    "\n",
    "proxy.shape"
   ]
  },
  {
   "cell_type": "markdown",
   "metadata": {},
   "source": [
    "mean, last and lag featues with only subset of train data\n",
    "> Improved upon baseline model "
   ]
  },
  {
   "cell_type": "code",
   "execution_count": 130,
   "metadata": {},
   "outputs": [],
   "source": [
    "from sklearn.ensemble import GradientBoostingRegressor"
   ]
  },
  {
   "cell_type": "code",
   "execution_count": 167,
   "metadata": {},
   "outputs": [
    {
     "name": "stdout",
     "output_type": "stream",
     "text": [
      "0.9020957689424861 0.0024751692589182477\n",
      "0.9001189265493504 0.004135406173044343\n"
     ]
    }
   ],
   "source": [
    "\n",
    "model = RandomForestRegressor(n_estimators=200, max_depth=7,\n",
    "                             n_jobs=-1)\n",
    "\n",
    "# model = GradientBoostingRegressor(n_estimators=200, max_depth=5, subsample=0.5)\n",
    "\n",
    "fs = [ 'gender', 'age', 'x1', 'x2', 'x3', 'x4', 'x5',\n",
    "       'x6', 'xx1_last', 'xx2_last', 'xx3_last', 'xx4_last', 'xx5_last',\n",
    "       'xx1_mean', 'xx2_mean', 'xx3_mean', 'xx4_mean', 'xx5_mean',\n",
    "        'xx1_last_lag', 'xx2_last_lag',\n",
    "       'xx3_last_lag', 'xx4_last_lag', 'xx5_last_lag']\n",
    "\n",
    "# model = LinearRegression()\n",
    "\n",
    "tsl,vsl = score_model(model, proxy, fs,'y_mean_MAP')\n",
    "\n",
    "print(np.mean(tsl), np.std(tsl))\n",
    "\n",
    "print(np.mean(vsl), np.std(vsl))"
   ]
  },
  {
   "cell_type": "markdown",
   "metadata": {},
   "source": [
    "## Next model\n",
    "1. add standard deviation"
   ]
  },
  {
   "cell_type": "code",
   "execution_count": 157,
   "metadata": {},
   "outputs": [],
   "source": [
    "def get_std_features(dataframe):\n",
    "    dataframe = dataframe.groupby(['patient_id','key'], as_index=False).agg(\\\n",
    "                            {'xx1':'std', 'xx2':'std', 'xx3':'std', \n",
    "                            'xx4':'std', 'xx5':'std'})\n",
    "    \n",
    "    dataframe.columns = ['patient_id','key','xx1_std','xx2_std',\n",
    "                      'xx3_std','xx4_std','xx5_std']\n",
    "    return dataframe"
   ]
  },
  {
   "cell_type": "code",
   "execution_count": 158,
   "metadata": {},
   "outputs": [],
   "source": [
    "std_df = get_std_features(df)"
   ]
  },
  {
   "cell_type": "code",
   "execution_count": 159,
   "metadata": {},
   "outputs": [
    {
     "data": {
      "text/html": [
       "<div>\n",
       "<style scoped>\n",
       "    .dataframe tbody tr th:only-of-type {\n",
       "        vertical-align: middle;\n",
       "    }\n",
       "\n",
       "    .dataframe tbody tr th {\n",
       "        vertical-align: top;\n",
       "    }\n",
       "\n",
       "    .dataframe thead th {\n",
       "        text-align: right;\n",
       "    }\n",
       "</style>\n",
       "<table border=\"1\" class=\"dataframe\">\n",
       "  <thead>\n",
       "    <tr style=\"text-align: right;\">\n",
       "      <th></th>\n",
       "      <th>patient_id</th>\n",
       "      <th>key</th>\n",
       "      <th>gender</th>\n",
       "      <th>age</th>\n",
       "      <th>x1</th>\n",
       "      <th>x2</th>\n",
       "      <th>x3</th>\n",
       "      <th>x4</th>\n",
       "      <th>x5</th>\n",
       "      <th>x6</th>\n",
       "      <th>...</th>\n",
       "      <th>xx3_mean</th>\n",
       "      <th>xx4_mean</th>\n",
       "      <th>xx5_mean</th>\n",
       "      <th>y_mean_MAP</th>\n",
       "      <th>y_mean_HR</th>\n",
       "      <th>xx1_last_lag</th>\n",
       "      <th>xx2_last_lag</th>\n",
       "      <th>xx3_last_lag</th>\n",
       "      <th>xx4_last_lag</th>\n",
       "      <th>xx5_last_lag</th>\n",
       "    </tr>\n",
       "  </thead>\n",
       "  <tbody>\n",
       "    <tr>\n",
       "      <td>0</td>\n",
       "      <td>0</td>\n",
       "      <td>28</td>\n",
       "      <td>0</td>\n",
       "      <td>72</td>\n",
       "      <td>39</td>\n",
       "      <td>5</td>\n",
       "      <td>1</td>\n",
       "      <td>0</td>\n",
       "      <td>0</td>\n",
       "      <td>0</td>\n",
       "      <td>...</td>\n",
       "      <td>113.433333</td>\n",
       "      <td>69.566667</td>\n",
       "      <td>87.000000</td>\n",
       "      <td>86.426667</td>\n",
       "      <td>79.13</td>\n",
       "      <td>79.0</td>\n",
       "      <td>100.0</td>\n",
       "      <td>112.0</td>\n",
       "      <td>71.0</td>\n",
       "      <td>88.0</td>\n",
       "    </tr>\n",
       "    <tr>\n",
       "      <td>30</td>\n",
       "      <td>2</td>\n",
       "      <td>1</td>\n",
       "      <td>0</td>\n",
       "      <td>45</td>\n",
       "      <td>30</td>\n",
       "      <td>2</td>\n",
       "      <td>5</td>\n",
       "      <td>0</td>\n",
       "      <td>0</td>\n",
       "      <td>1</td>\n",
       "      <td>...</td>\n",
       "      <td>119.403333</td>\n",
       "      <td>65.283333</td>\n",
       "      <td>82.726667</td>\n",
       "      <td>84.540000</td>\n",
       "      <td>95.50</td>\n",
       "      <td>94.8</td>\n",
       "      <td>98.0</td>\n",
       "      <td>119.7</td>\n",
       "      <td>65.6</td>\n",
       "      <td>82.6</td>\n",
       "    </tr>\n",
       "    <tr>\n",
       "      <td>31</td>\n",
       "      <td>2</td>\n",
       "      <td>3</td>\n",
       "      <td>0</td>\n",
       "      <td>45</td>\n",
       "      <td>30</td>\n",
       "      <td>2</td>\n",
       "      <td>5</td>\n",
       "      <td>0</td>\n",
       "      <td>0</td>\n",
       "      <td>1</td>\n",
       "      <td>...</td>\n",
       "      <td>117.966667</td>\n",
       "      <td>65.840000</td>\n",
       "      <td>82.356667</td>\n",
       "      <td>76.780000</td>\n",
       "      <td>95.96</td>\n",
       "      <td>94.8</td>\n",
       "      <td>98.0</td>\n",
       "      <td>119.7</td>\n",
       "      <td>65.6</td>\n",
       "      <td>82.6</td>\n",
       "    </tr>\n",
       "    <tr>\n",
       "      <td>32</td>\n",
       "      <td>2</td>\n",
       "      <td>4</td>\n",
       "      <td>0</td>\n",
       "      <td>45</td>\n",
       "      <td>30</td>\n",
       "      <td>2</td>\n",
       "      <td>5</td>\n",
       "      <td>0</td>\n",
       "      <td>0</td>\n",
       "      <td>1</td>\n",
       "      <td>...</td>\n",
       "      <td>113.193333</td>\n",
       "      <td>55.826667</td>\n",
       "      <td>73.770000</td>\n",
       "      <td>72.360000</td>\n",
       "      <td>79.72</td>\n",
       "      <td>101.5</td>\n",
       "      <td>98.0</td>\n",
       "      <td>118.6</td>\n",
       "      <td>65.4</td>\n",
       "      <td>82.2</td>\n",
       "    </tr>\n",
       "    <tr>\n",
       "      <td>33</td>\n",
       "      <td>2</td>\n",
       "      <td>5</td>\n",
       "      <td>0</td>\n",
       "      <td>45</td>\n",
       "      <td>30</td>\n",
       "      <td>2</td>\n",
       "      <td>5</td>\n",
       "      <td>0</td>\n",
       "      <td>0</td>\n",
       "      <td>1</td>\n",
       "      <td>...</td>\n",
       "      <td>113.606667</td>\n",
       "      <td>54.733333</td>\n",
       "      <td>73.043333</td>\n",
       "      <td>73.520000</td>\n",
       "      <td>81.90</td>\n",
       "      <td>80.6</td>\n",
       "      <td>98.0</td>\n",
       "      <td>112.4</td>\n",
       "      <td>54.6</td>\n",
       "      <td>72.6</td>\n",
       "    </tr>\n",
       "  </tbody>\n",
       "</table>\n",
       "<p>5 rows × 27 columns</p>\n",
       "</div>"
      ],
      "text/plain": [
       "    patient_id  key  gender  age  x1  x2  x3  x4  x5  x6  ...    xx3_mean  \\\n",
       "0            0   28       0   72  39   5   1   0   0   0  ...  113.433333   \n",
       "30           2    1       0   45  30   2   5   0   0   1  ...  119.403333   \n",
       "31           2    3       0   45  30   2   5   0   0   1  ...  117.966667   \n",
       "32           2    4       0   45  30   2   5   0   0   1  ...  113.193333   \n",
       "33           2    5       0   45  30   2   5   0   0   1  ...  113.606667   \n",
       "\n",
       "     xx4_mean   xx5_mean  y_mean_MAP  y_mean_HR  xx1_last_lag  xx2_last_lag  \\\n",
       "0   69.566667  87.000000   86.426667      79.13          79.0         100.0   \n",
       "30  65.283333  82.726667   84.540000      95.50          94.8          98.0   \n",
       "31  65.840000  82.356667   76.780000      95.96          94.8          98.0   \n",
       "32  55.826667  73.770000   72.360000      79.72         101.5          98.0   \n",
       "33  54.733333  73.043333   73.520000      81.90          80.6          98.0   \n",
       "\n",
       "    xx3_last_lag  xx4_last_lag  xx5_last_lag  \n",
       "0          112.0          71.0          88.0  \n",
       "30         119.7          65.6          82.6  \n",
       "31         119.7          65.6          82.6  \n",
       "32         118.6          65.4          82.2  \n",
       "33         112.4          54.6          72.6  \n",
       "\n",
       "[5 rows x 27 columns]"
      ]
     },
     "execution_count": 159,
     "metadata": {},
     "output_type": "execute_result"
    }
   ],
   "source": [
    "proxy.head()"
   ]
  },
  {
   "cell_type": "code",
   "execution_count": 161,
   "metadata": {},
   "outputs": [
    {
     "name": "stdout",
     "output_type": "stream",
     "text": [
      "(43247, 27)\n",
      "(43247, 32)\n"
     ]
    }
   ],
   "source": [
    "print(proxy.shape)\n",
    "proxy = pd.merge(proxy, std_df,on=['patient_id', 'key'])\n",
    "print(proxy.shape)"
   ]
  },
  {
   "cell_type": "code",
   "execution_count": 170,
   "metadata": {},
   "outputs": [
    {
     "name": "stdout",
     "output_type": "stream",
     "text": [
      "0.8919086615454639 0.004255933462027359\n",
      "0.8946026743468964 0.009947648956564938\n"
     ]
    }
   ],
   "source": [
    "\n",
    "model = RandomForestRegressor(n_estimators=200, max_depth=7,\n",
    "                             n_jobs=-1)\n",
    "\n",
    "model = LinearRegression()\n",
    "\n",
    "fs = [ 'gender', 'age', 'x1', 'x2', 'x3', 'x4', 'x5',\n",
    "       'x6', 'xx1_last', 'xx2_last', 'xx3_last', 'xx4_last', 'xx5_last',\n",
    "       'xx1_mean', 'xx2_mean', 'xx3_mean', 'xx4_mean', 'xx5_mean',\n",
    "        'xx1_last_lag', 'xx2_last_lag',\n",
    "       'xx3_last_lag', 'xx4_last_lag', 'xx5_last_lag',\n",
    "     'xx1_std', 'xx2_std', 'xx3_std', 'xx4_std', 'xx5_std']\n",
    "\n",
    "# model = LinearRegression()\n",
    "\n",
    "tsl,vsl = score_model(model, proxy, fs,'y_mean_MAP')\n",
    "\n",
    "print(np.mean(tsl), np.std(tsl))\n",
    "\n",
    "print(np.mean(vsl), np.std(vsl))"
   ]
  },
  {
   "cell_type": "markdown",
   "metadata": {},
   "source": [
    "only few keys"
   ]
  },
  {
   "cell_type": "code",
   "execution_count": 171,
   "metadata": {},
   "outputs": [
    {
     "data": {
      "text/plain": [
       "(43247, 32)"
      ]
     },
     "execution_count": 171,
     "metadata": {},
     "output_type": "execute_result"
    }
   ],
   "source": [
    "proxy.shape"
   ]
  },
  {
   "cell_type": "code",
   "execution_count": 175,
   "metadata": {},
   "outputs": [
    {
     "data": {
      "text/plain": [
       "(27531, 32)"
      ]
     },
     "execution_count": 175,
     "metadata": {},
     "output_type": "execute_result"
    }
   ],
   "source": [
    "proxy[proxy.key<=50].shape"
   ]
  },
  {
   "cell_type": "code",
   "execution_count": 190,
   "metadata": {},
   "outputs": [
    {
     "name": "stdout",
     "output_type": "stream",
     "text": [
      "0.9032308703274142 0.0024681737192645413\n",
      "0.9000234869872847 0.003978708253689493\n"
     ]
    }
   ],
   "source": [
    "\n",
    "model = RandomForestRegressor(n_estimators=200, max_depth=7,\n",
    "                             n_jobs=-1)\n",
    "\n",
    "# model = LinearRegression()\n",
    "\n",
    "fs = [ 'gender', 'age', 'x1', 'x2', 'x3', 'x4', 'x5',\n",
    "       'x6', 'xx1_last', 'xx2_last', 'xx3_last', 'xx4_last', 'xx5_last',\n",
    "       'xx1_mean', 'xx2_mean', 'xx3_mean', 'xx4_mean', 'xx5_mean',\n",
    "        'xx1_last_lag', 'xx2_last_lag',\n",
    "       'xx3_last_lag', 'xx4_last_lag', 'xx5_last_lag',\n",
    "     'xx1_std', 'xx2_std', 'xx3_std', 'xx4_std', 'xx5_std','key']\n",
    "\n",
    "# model = LinearRegression()\n",
    "\n",
    "tsl,vsl = score_model(model, proxy, fs,'y_mean_MAP')\n",
    "\n",
    "print(np.mean(tsl), np.std(tsl))\n",
    "\n",
    "print(np.mean(vsl), np.std(vsl))"
   ]
  },
  {
   "cell_type": "code",
   "execution_count": null,
   "metadata": {},
   "outputs": [],
   "source": []
  },
  {
   "cell_type": "markdown",
   "metadata": {},
   "source": [
    "## add another lag feature"
   ]
  },
  {
   "cell_type": "code",
   "execution_count": 193,
   "metadata": {},
   "outputs": [
    {
     "data": {
      "text/html": [
       "<div>\n",
       "<style scoped>\n",
       "    .dataframe tbody tr th:only-of-type {\n",
       "        vertical-align: middle;\n",
       "    }\n",
       "\n",
       "    .dataframe tbody tr th {\n",
       "        vertical-align: top;\n",
       "    }\n",
       "\n",
       "    .dataframe thead th {\n",
       "        text-align: right;\n",
       "    }\n",
       "</style>\n",
       "<table border=\"1\" class=\"dataframe\">\n",
       "  <thead>\n",
       "    <tr style=\"text-align: right;\">\n",
       "      <th></th>\n",
       "      <th>patient_id</th>\n",
       "      <th>key</th>\n",
       "      <th>gender</th>\n",
       "      <th>age</th>\n",
       "      <th>x1</th>\n",
       "      <th>x2</th>\n",
       "      <th>x3</th>\n",
       "      <th>x4</th>\n",
       "      <th>x5</th>\n",
       "      <th>x6</th>\n",
       "      <th>...</th>\n",
       "      <th>xx1_last_lag</th>\n",
       "      <th>xx2_last_lag</th>\n",
       "      <th>xx3_last_lag</th>\n",
       "      <th>xx4_last_lag</th>\n",
       "      <th>xx5_last_lag</th>\n",
       "      <th>xx1_std</th>\n",
       "      <th>xx2_std</th>\n",
       "      <th>xx3_std</th>\n",
       "      <th>xx4_std</th>\n",
       "      <th>xx5_std</th>\n",
       "    </tr>\n",
       "  </thead>\n",
       "  <tbody>\n",
       "    <tr>\n",
       "      <td>0</td>\n",
       "      <td>0</td>\n",
       "      <td>28</td>\n",
       "      <td>0</td>\n",
       "      <td>72</td>\n",
       "      <td>39</td>\n",
       "      <td>5</td>\n",
       "      <td>1</td>\n",
       "      <td>0</td>\n",
       "      <td>0</td>\n",
       "      <td>0</td>\n",
       "      <td>...</td>\n",
       "      <td>79.0</td>\n",
       "      <td>100.0</td>\n",
       "      <td>112.0</td>\n",
       "      <td>71.0</td>\n",
       "      <td>88.0</td>\n",
       "      <td>2.001436</td>\n",
       "      <td>0.827682</td>\n",
       "      <td>6.526779</td>\n",
       "      <td>4.023066</td>\n",
       "      <td>4.556163</td>\n",
       "    </tr>\n",
       "    <tr>\n",
       "      <td>1</td>\n",
       "      <td>2</td>\n",
       "      <td>1</td>\n",
       "      <td>0</td>\n",
       "      <td>45</td>\n",
       "      <td>30</td>\n",
       "      <td>2</td>\n",
       "      <td>5</td>\n",
       "      <td>0</td>\n",
       "      <td>0</td>\n",
       "      <td>1</td>\n",
       "      <td>...</td>\n",
       "      <td>94.8</td>\n",
       "      <td>98.0</td>\n",
       "      <td>119.7</td>\n",
       "      <td>65.6</td>\n",
       "      <td>82.6</td>\n",
       "      <td>2.689793</td>\n",
       "      <td>0.880595</td>\n",
       "      <td>0.758621</td>\n",
       "      <td>1.265206</td>\n",
       "      <td>0.927337</td>\n",
       "    </tr>\n",
       "    <tr>\n",
       "      <td>2</td>\n",
       "      <td>2</td>\n",
       "      <td>3</td>\n",
       "      <td>0</td>\n",
       "      <td>45</td>\n",
       "      <td>30</td>\n",
       "      <td>2</td>\n",
       "      <td>5</td>\n",
       "      <td>0</td>\n",
       "      <td>0</td>\n",
       "      <td>1</td>\n",
       "      <td>...</td>\n",
       "      <td>94.8</td>\n",
       "      <td>98.0</td>\n",
       "      <td>119.7</td>\n",
       "      <td>65.6</td>\n",
       "      <td>82.6</td>\n",
       "      <td>0.846365</td>\n",
       "      <td>0.000000</td>\n",
       "      <td>1.131472</td>\n",
       "      <td>1.122682</td>\n",
       "      <td>1.064047</td>\n",
       "    </tr>\n",
       "    <tr>\n",
       "      <td>3</td>\n",
       "      <td>2</td>\n",
       "      <td>4</td>\n",
       "      <td>0</td>\n",
       "      <td>45</td>\n",
       "      <td>30</td>\n",
       "      <td>2</td>\n",
       "      <td>5</td>\n",
       "      <td>0</td>\n",
       "      <td>0</td>\n",
       "      <td>1</td>\n",
       "      <td>...</td>\n",
       "      <td>101.5</td>\n",
       "      <td>98.0</td>\n",
       "      <td>118.6</td>\n",
       "      <td>65.4</td>\n",
       "      <td>82.2</td>\n",
       "      <td>4.774410</td>\n",
       "      <td>0.000000</td>\n",
       "      <td>0.748301</td>\n",
       "      <td>1.244279</td>\n",
       "      <td>1.102708</td>\n",
       "    </tr>\n",
       "    <tr>\n",
       "      <td>4</td>\n",
       "      <td>2</td>\n",
       "      <td>5</td>\n",
       "      <td>0</td>\n",
       "      <td>45</td>\n",
       "      <td>30</td>\n",
       "      <td>2</td>\n",
       "      <td>5</td>\n",
       "      <td>0</td>\n",
       "      <td>0</td>\n",
       "      <td>1</td>\n",
       "      <td>...</td>\n",
       "      <td>80.6</td>\n",
       "      <td>98.0</td>\n",
       "      <td>112.4</td>\n",
       "      <td>54.6</td>\n",
       "      <td>72.6</td>\n",
       "      <td>0.510398</td>\n",
       "      <td>0.491958</td>\n",
       "      <td>2.005498</td>\n",
       "      <td>0.616628</td>\n",
       "      <td>0.891602</td>\n",
       "    </tr>\n",
       "  </tbody>\n",
       "</table>\n",
       "<p>5 rows × 32 columns</p>\n",
       "</div>"
      ],
      "text/plain": [
       "   patient_id  key  gender  age  x1  x2  x3  x4  x5  x6  ...  xx1_last_lag  \\\n",
       "0           0   28       0   72  39   5   1   0   0   0  ...          79.0   \n",
       "1           2    1       0   45  30   2   5   0   0   1  ...          94.8   \n",
       "2           2    3       0   45  30   2   5   0   0   1  ...          94.8   \n",
       "3           2    4       0   45  30   2   5   0   0   1  ...         101.5   \n",
       "4           2    5       0   45  30   2   5   0   0   1  ...          80.6   \n",
       "\n",
       "   xx2_last_lag  xx3_last_lag  xx4_last_lag  xx5_last_lag   xx1_std   xx2_std  \\\n",
       "0         100.0         112.0          71.0          88.0  2.001436  0.827682   \n",
       "1          98.0         119.7          65.6          82.6  2.689793  0.880595   \n",
       "2          98.0         119.7          65.6          82.6  0.846365  0.000000   \n",
       "3          98.0         118.6          65.4          82.2  4.774410  0.000000   \n",
       "4          98.0         112.4          54.6          72.6  0.510398  0.491958   \n",
       "\n",
       "    xx3_std   xx4_std   xx5_std  \n",
       "0  6.526779  4.023066  4.556163  \n",
       "1  0.758621  1.265206  0.927337  \n",
       "2  1.131472  1.122682  1.064047  \n",
       "3  0.748301  1.244279  1.102708  \n",
       "4  2.005498  0.616628  0.891602  \n",
       "\n",
       "[5 rows x 32 columns]"
      ]
     },
     "execution_count": 193,
     "metadata": {},
     "output_type": "execute_result"
    }
   ],
   "source": [
    "proxy.head()"
   ]
  },
  {
   "cell_type": "code",
   "execution_count": 196,
   "metadata": {},
   "outputs": [],
   "source": [
    "proxy['xx5_lag2'] = proxy.groupby('patient_id')['xx5_last'].shift(2)"
   ]
  },
  {
   "cell_type": "code",
   "execution_count": 198,
   "metadata": {},
   "outputs": [],
   "source": [
    "proxy['xx5_lag2'] = proxy['xx5_lag2'].fillna(proxy['xx5_lag2'].median())"
   ]
  },
  {
   "cell_type": "code",
   "execution_count": 202,
   "metadata": {},
   "outputs": [
    {
     "name": "stdout",
     "output_type": "stream",
     "text": [
      "0.9440867939323577 0.0013127909874491737\n",
      "0.8983940640222935 0.003980611168194183\n"
     ]
    }
   ],
   "source": [
    "\n",
    "model = RandomForestRegressor(n_estimators=200, max_depth=12,\n",
    "                             n_jobs=-1)\n",
    "\n",
    "fs = [ 'gender', 'age', 'x1', 'x2', 'x3', 'x4', 'x5',\n",
    "       'x6', 'xx1_last', 'xx2_last', 'xx3_last', 'xx4_last', 'xx5_last',\n",
    "       'xx1_mean', 'xx2_mean', 'xx3_mean', 'xx4_mean', 'xx5_mean',\n",
    "        'xx1_last_lag', 'xx2_last_lag',\n",
    "       'xx3_last_lag', 'xx4_last_lag', 'xx5_last_lag',\n",
    "     'xx1_std', 'xx2_std', 'xx3_std', 'xx4_std', 'xx5_std','key',\n",
    "     'xx5_lag2']\n",
    "\n",
    "# model = LinearRegression()\n",
    "\n",
    "tsl,vsl = score_model(model, proxy, fs,'y_mean_MAP')\n",
    "\n",
    "print(np.mean(tsl), np.std(tsl))\n",
    "\n",
    "print(np.mean(vsl), np.std(vsl))"
   ]
  },
  {
   "cell_type": "markdown",
   "metadata": {},
   "source": [
    "## HR"
   ]
  },
  {
   "cell_type": "code",
   "execution_count": 262,
   "metadata": {},
   "outputs": [],
   "source": [
    "target_hr = 'y_mean_HR'"
   ]
  },
  {
   "cell_type": "code",
   "execution_count": 106,
   "metadata": {},
   "outputs": [
    {
     "name": "stdout",
     "output_type": "stream",
     "text": [
      "0.9441039181983717 0.0031692145450421946\n",
      "0.9304040271260078 0.006862309051277033\n"
     ]
    }
   ],
   "source": [
    "model = LinearRegression()\n",
    "\n",
    "tsl,vsl = score_model(model, proxy, feat_xx,'y_mean_HR')\n",
    "\n",
    "print(np.mean(tsl), np.std(tsl))\n",
    "\n",
    "print(np.mean(vsl), np.std(vsl))"
   ]
  },
  {
   "cell_type": "code",
   "execution_count": 105,
   "metadata": {},
   "outputs": [
    {
     "data": {
      "text/plain": [
       "0.922375"
      ]
     },
     "execution_count": 105,
     "metadata": {},
     "output_type": "execute_result"
    }
   ],
   "source": [
    "(0.94475 + 0.9)/2"
   ]
  },
  {
   "cell_type": "markdown",
   "metadata": {
    "Collapsed": "false"
   },
   "source": [
    "## for HR"
   ]
  },
  {
   "cell_type": "code",
   "execution_count": 108,
   "metadata": {
    "Collapsed": "false"
   },
   "outputs": [
    {
     "name": "stdout",
     "output_type": "stream",
     "text": [
      "0.9728147315265776 0.0012641672848292184\n",
      "0.9297976853954021 0.0074645254378290634\n"
     ]
    }
   ],
   "source": [
    "\n",
    "model = RandomForestRegressor(n_estimators=2, max_depth=7,n_jobs=-1)\n",
    "\n",
    "fs = [ 'gender', 'age', 'x1', 'x2', 'x3', 'x4', 'x5',\n",
    "       'x6', 'xx1_last', 'xx2_last', 'xx3_last', 'xx4_last', 'xx5_last',\n",
    "       'xx1_mean', 'xx2_mean', 'xx3_mean', 'xx4_mean', 'xx5_mean',\n",
    "        'xx1_last_lag', 'xx2_last_lag',\n",
    "       'xx3_last_lag', 'xx4_last_lag', 'xx5_last_lag']\n",
    "\n",
    "# model = LinearRegression()\n",
    "\n",
    "tsl,vsl = score_model(model, proxy, fs,'y_mean_HR')\n",
    "\n",
    "print(np.mean(tsl), np.std(tsl))\n",
    "\n",
    "print(np.mean(vsl), np.std(vsl))"
   ]
  },
  {
   "cell_type": "markdown",
   "metadata": {
    "Collapsed": "false"
   },
   "source": [
    "> Validate model"
   ]
  },
  {
   "cell_type": "code",
   "execution_count": 37,
   "metadata": {
    "Collapsed": "false"
   },
   "outputs": [
    {
     "name": "stdout",
     "output_type": "stream",
     "text": [
      "0.9500942690566504 0.9324143945600095\n"
     ]
    }
   ],
   "source": [
    "train_score, val_score = get_cross_validation(model, X_train, y_train['y_mean_HR'], X_val, y_val['y_mean_HR'],\n",
    "                                              X_test, y_test['y_mean_HR']\n",
    "                         , mode='val',\n",
    "                        use_full=True)\n",
    "print(train_score, val_score)"
   ]
  },
  {
   "cell_type": "code",
   "execution_count": 38,
   "metadata": {
    "Collapsed": "false"
   },
   "outputs": [
    {
     "data": {
      "text/plain": [
       "<BarContainer object of 62 artists>"
      ]
     },
     "execution_count": 38,
     "metadata": {},
     "output_type": "execute_result"
    },
    {
     "data": {
      "image/png": "[encoded data removed]",
      "text/plain": [
       "<Figure size 1080x360 with 1 Axes>"
      ]
     },
     "metadata": {
      "needs_background": "light"
     },
     "output_type": "display_data"
    }
   ],
   "source": [
    "plt.figure(figsize=(15,5))\n",
    "plt.xticks(rotation=90)\n",
    "plt.bar(features , model.coef_)"
   ]
  },
  {
   "cell_type": "markdown",
   "metadata": {
    "Collapsed": "false"
   },
   "source": [
    "> test model"
   ]
  },
  {
   "cell_type": "code",
   "execution_count": 425,
   "metadata": {
    "Collapsed": "false"
   },
   "outputs": [
    {
     "name": "stdout",
     "output_type": "stream",
     "text": [
      "train_score/test_score = 0.9225858004511253/0.9323528735098146\n"
     ]
    }
   ],
   "source": [
    "train_score, test_score = get_cross_validation(model, X_train, y_train['y_mean_HR'], X_val,\n",
    "                                               y_val['y_mean_HR'], X_test, y_test['y_mean_HR']\n",
    "                         , mode='test',\n",
    "                        use_full=False)\n",
    "print(f\"train_score/test_score = {train_score}/{test_score}\")"
   ]
  },
  {
   "cell_type": "markdown",
   "metadata": {
    "Collapsed": "false"
   },
   "source": [
    "> Use train + val data for training"
   ]
  },
  {
   "cell_type": "code",
   "execution_count": 426,
   "metadata": {
    "Collapsed": "false"
   },
   "outputs": [
    {
     "name": "stdout",
     "output_type": "stream",
     "text": [
      "train_score/test_score = 0.9233389059446697/0.9323528050826447\n"
     ]
    }
   ],
   "source": [
    "train_score, test_score = get_cross_validation(model, X_train, y_train['y_mean_HR']\n",
    "                                               , X_val, y_val['y_mean_HR'], \n",
    "                                               X_test, y_test['y_mean_HR']\n",
    "                         , mode='test',\n",
    "                        use_full=True)\n",
    "print(f\"train_score/test_score = {train_score}/{test_score}\")"
   ]
  },
  {
   "cell_type": "code",
   "execution_count": 427,
   "metadata": {
    "Collapsed": "false"
   },
   "outputs": [
    {
     "data": {
      "text/plain": [
       "<BarContainer object of 18 artists>"
      ]
     },
     "execution_count": 427,
     "metadata": {},
     "output_type": "execute_result"
    },
    {
     "data": {
      "image/png": "[encoded data removed]",
      "text/plain": [
       "<Figure size 1080x360 with 1 Axes>"
      ]
     },
     "metadata": {
      "needs_background": "light"
     },
     "output_type": "display_data"
    }
   ],
   "source": [
    "plt.figure(figsize=(15,5))\n",
    "plt.xticks(rotation=90)\n",
    "plt.bar(features , model.coef_)"
   ]
  },
  {
   "cell_type": "code",
   "execution_count": 309,
   "metadata": {
    "Collapsed": "false"
   },
   "outputs": [
    {
     "data": {
      "text/plain": [
       "0.90265"
      ]
     },
     "execution_count": 309,
     "metadata": {},
     "output_type": "execute_result"
    }
   ],
   "source": [
    "(0.942 + 0.8633)/2"
   ]
  },
  {
   "cell_type": "code",
   "execution_count": 522,
   "metadata": {
    "Collapsed": "false",
    "collapsed": true,
    "jupyter": {
     "outputs_hidden": true
    }
   },
   "outputs": [
    {
     "name": "stdout",
     "output_type": "stream",
     "text": [
      "Collecting tensorly\n",
      "\u001b[?25l  Downloading https://files.pythonhosted.org/packages/37/d6/8ddeec3d840635b78fdb1ed8f3dae938553b0a38c245b9c59845e89e4c2b/tensorly-0.4.5.tar.gz (70kB)\n",
      "\u001b[K     |████████████████████████████████| 71kB 2.6MB/s eta 0:00:01\n",
      "\u001b[?25hRequirement already satisfied: numpy in /Users/nithish/anaconda3/lib/python3.6/site-packages (from tensorly) (1.17.3)\n",
      "Requirement already satisfied: scipy in /Users/nithish/anaconda3/lib/python3.6/site-packages (from tensorly) (1.3.1)\n",
      "Collecting nose\n",
      "\u001b[?25l  Downloading https://files.pythonhosted.org/packages/15/d8/dd071918c040f50fa1cf80da16423af51ff8ce4a0f2399b7bf8de45ac3d9/nose-1.3.7-py3-none-any.whl (154kB)\n",
      "\u001b[K     |████████████████████████████████| 163kB 6.9MB/s eta 0:00:01\n",
      "\u001b[?25hBuilding wheels for collected packages: tensorly\n",
      "  Building wheel for tensorly (setup.py) ... \u001b[?25ldone\n",
      "\u001b[?25h  Created wheel for tensorly: filename=tensorly-0.4.5-cp36-none-any.whl size=100154 sha256=5951078c5cac6485677d611bd5eac3f763b8a419d09d7f564545b182703eb5ac\n",
      "  Stored in directory: /Users/nithish/Library/Caches/pip/wheels/44/ae/02/8d00229a4fd0af192b48d24da903f9975c7ac10e706685fc39\n",
      "Successfully built tensorly\n",
      "Installing collected packages: nose, tensorly\n",
      "Successfully installed nose-1.3.7 tensorly-0.4.5\n"
     ]
    }
   ],
   "source": [
    "from tensorly.regression im"
   ]
  },
  {
   "cell_type": "code",
   "execution_count": null,
   "metadata": {
    "Collapsed": "false"
   },
   "outputs": [],
   "source": [
    "# gp = df.groupby(['patient_id', 'key'],as_index=False)\n",
    "\n",
    "# df_with_corr = []\n",
    "# for key,group in gp:\n",
    "#     arr1 = group.iloc[-1].values\n",
    "#     arr_ = np.triu(group[['xx1', 'xx2', 'xx3', 'xx4', 'xx5']].corr()).ravel()\n",
    "#     arr_ = arr_[[1,2,3,4,7,8,9,13,14,19]]\n",
    "#     com = np.concatenate([arr1, arr_])\n",
    "#     df_with_corr.append(com)\n",
    "\n",
    "# with open('./data/df_with_corr.pickle','wb') as f:\n",
    "#     pickle.dump(df_with_corr, f)\n",
    "\n",
    "    \n",
    "# # with open('./data/df_with_corr.pickle','rb') as f:\n",
    "# #     df_with_corr = pickle.load(f)\n",
    "\n",
    "# df_with_corr = pd.DataFrame(df_with_corr)"
   ]
  }
 ],
 "metadata": {
  "kernelspec": {
   "display_name": "Python 3",
   "language": "python",
   "name": "python3"
  },
  "language_info": {
   "codemirror_mode": {
    "name": "ipython",
    "version": 3
   },
   "file_extension": ".py",
   "mimetype": "text/x-python",
   "name": "python",
   "nbconvert_exporter": "python",
   "pygments_lexer": "ipython3",
   "version": "3.7.4"
  },
  "latex_envs": {
   "LaTeX_envs_menu_present": true,
   "autoclose": false,
   "autocomplete": true,
   "bibliofile": "biblio.bib",
   "cite_by": "apalike",
   "current_citInitial": 1,
   "eqLabelWithNumbers": true,
   "eqNumInitial": 1,
   "hotkeys": {
    "equation": "Ctrl-E",
    "itemize": "Ctrl-I"
   },
   "labels_anchors": false,
   "latex_user_defs": false,
   "report_style_numbering": false,
   "user_envs_cfg": false
  },
  "toc": {
   "base_numbering": 1,
   "nav_menu": {},
   "number_sections": true,
   "sideBar": true,
   "skip_h1_title": false,
   "title_cell": "Table of Contents",
   "title_sidebar": "Contents",
   "toc_cell": false,
   "toc_position": {},
   "toc_section_display": true,
   "toc_window_display": false
  }
 },
 "nbformat": 4,
 "nbformat_minor": 4
}
