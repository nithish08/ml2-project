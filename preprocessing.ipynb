{
 "cells": [
  {
   "cell_type": "code",
   "execution_count": 1,
   "metadata": {
    "Collapsed": "false"
   },
   "outputs": [],
   "source": [
    "import pandas as pd\n",
    "import numpy as np\n",
    "from pathlib import Path\n",
    "import matplotlib.pyplot as plt\n",
    "import seaborn as sns"
   ]
  },
  {
   "cell_type": "code",
   "execution_count": 2,
   "metadata": {
    "Collapsed": "false"
   },
   "outputs": [],
   "source": [
    "def tabular_features(dataframe):\n",
    "    timeseries = ['xx1', 'xx2', 'xx3', 'xx4', 'xx5']\n",
    "    \n",
    "    reduced = dataframe[['patient_id','key' ,'gender', 'age','x1', 'x2', 'x3', 'x4', 'x5', 'x6']].drop_duplicates()\n",
    "    \n",
    "    for col_name in timeseries:\n",
    "        \n",
    "        features = dataframe.groupby(['patient_id', 'key'], as_index=False).aggregate({col_name:['mean','std','max','min']})\n",
    "        \n",
    "        #fix column names\n",
    "        col_names = ['patient_id', 'key'] + [f\"{col_name}_{i}\" for i in ['mean','std','max','min']]\n",
    "        features.columns = col_names\n",
    "        \n",
    "        row1 = reduced.shape[0]\n",
    "        reduced = pd.merge(reduced, features, on=['patient_id', 'key'])\n",
    "        row2 = reduced.shape[0]\n",
    "        \n",
    "        if row1!=row2:\n",
    "            print(f\"features shape {features.shape}\")\n",
    "            print(f\"reduced shape {reduced.shape}\")\n",
    "            print(f'rows are different for {col_name}')\n",
    "            print(f'row1-row2 = {row1}-{row2}')\n",
    "    \n",
    "    return reduced"
   ]
  },
  {
   "cell_type": "code",
   "execution_count": 5,
   "metadata": {
    "Collapsed": "false"
   },
   "outputs": [],
   "source": [
    "def tabular_features_with_key(dataframe):\n",
    "    timeseries = ['xx1', 'xx2', 'xx3', 'xx4', 'xx5']\n",
    "    \n",
    "    reduced = dataframe[['patient_id','key' ,'gender', 'age','x1', 'x2', 'x3', 'x4', 'x5', 'x6']].drop_duplicates()\n",
    "    reduced['key_feature'] = reduced['key'].apply(lambda x: int(x.split('-')[-1]))\n",
    "    reduced['key_feature'] = reduced[['key_feature', 'patient_id']].groupby('patient_id').transform('max')['key_feature']\n",
    "    \n",
    "    for col_name in timeseries:\n",
    "        \n",
    "        features = dataframe.groupby(['patient_id', 'key'], as_index=False).aggregate({col_name:['mean','std','max','min']})\n",
    "        \n",
    "        #fix column names\n",
    "        col_names = ['patient_id', 'key'] + [f\"{col_name}_{i}\" for i in ['mean','std','max','min']]\n",
    "        features.columns = col_names\n",
    "        \n",
    "        row1 = reduced.shape[0]\n",
    "        reduced = pd.merge(reduced, features, on=['patient_id', 'key'])\n",
    "        row2 = reduced.shape[0]\n",
    "        \n",
    "        if row1!=row2:\n",
    "            print(f\"features shape {features.shape}\")\n",
    "            print(f\"reduced shape {reduced.shape}\")\n",
    "            print(f'rows are different for {col_name}')\n",
    "            print(f'row1-row2 = {row1}-{row2}')\n",
    "    \n",
    "    return reduced"
   ]
  },
  {
   "cell_type": "code",
   "execution_count": null,
   "metadata": {
    "Collapsed": "false"
   },
   "outputs": [],
   "source": []
  }
 ],
 "metadata": {
  "kernelspec": {
   "display_name": "Python 3",
   "language": "python",
   "name": "python3"
  },
  "language_info": {
   "codemirror_mode": {
    "name": "ipython",
    "version": 3
   },
   "file_extension": ".py",
   "mimetype": "text/x-python",
   "name": "python",
   "nbconvert_exporter": "python",
   "pygments_lexer": "ipython3",
   "version": "3.7.4"
  }
 },
 "nbformat": 4,
 "nbformat_minor": 4
}
